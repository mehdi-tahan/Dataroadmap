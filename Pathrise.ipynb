{
  "nbformat": 4,
  "nbformat_minor": 0,
  "metadata": {
    "colab": {
      "provenance": [],
      "authorship_tag": "ABX9TyO3Ktxys25rtL79a2FvvIBs",
      "include_colab_link": true
    },
    "kernelspec": {
      "name": "python3",
      "display_name": "Python 3"
    },
    "language_info": {
      "name": "python"
    }
  },
  "cells": [
    {
      "cell_type": "markdown",
      "metadata": {
        "id": "view-in-github",
        "colab_type": "text"
      },
      "source": [
        "<a href=\"https://colab.research.google.com/github/mehdi-tahan/Dataroadmap/blob/main/Pathrise.ipynb\" target=\"_parent\"><img src=\"https://colab.research.google.com/assets/colab-badge.svg\" alt=\"Open In Colab\"/></a>"
      ]
    },
    {
      "cell_type": "code",
      "execution_count": 28,
      "metadata": {
        "id": "WA-7s5apQoAb"
      },
      "outputs": [],
      "source": [
        "import pandas as pd"
      ]
    },
    {
      "cell_type": "code",
      "source": [
        "df = pd.read_excel('/content/sample_data/Data_Pathrise.xlsx')"
      ],
      "metadata": {
        "id": "oDzdetcHQwyI"
      },
      "execution_count": 29,
      "outputs": []
    },
    {
      "cell_type": "code",
      "source": [
        "df.info()"
      ],
      "metadata": {
        "colab": {
          "base_uri": "https://localhost:8080/"
        },
        "id": "d3xQPsKqRAxQ",
        "outputId": "032ce3f8-c17a-49f8-a42c-de780d96db25"
      },
      "execution_count": 30,
      "outputs": [
        {
          "output_type": "stream",
          "name": "stdout",
          "text": [
            "<class 'pandas.core.frame.DataFrame'>\n",
            "RangeIndex: 2544 entries, 0 to 2543\n",
            "Data columns (total 16 columns):\n",
            " #   Column                       Non-Null Count  Dtype  \n",
            "---  ------                       --------------  -----  \n",
            " 0   id                           2544 non-null   int64  \n",
            " 1   pathrise_status              2544 non-null   object \n",
            " 2   primary_track                2544 non-null   object \n",
            " 3   cohort_tag                   2536 non-null   object \n",
            " 4   program_duration_days        1928 non-null   float64\n",
            " 5   placed                       2544 non-null   int64  \n",
            " 6   employment_status            2315 non-null   object \n",
            " 7   highest_level_of_education   2486 non-null   object \n",
            " 8   length_of_job_search         2470 non-null   object \n",
            " 9   biggest_challenge_in_search  2520 non-null   object \n",
            " 10  professional_experience      2322 non-null   object \n",
            " 11  work_authorization_status    2260 non-null   object \n",
            " 12  number_of_interviews         2326 non-null   float64\n",
            " 13  number_of_applications       2544 non-null   int64  \n",
            " 14  gender                       2052 non-null   object \n",
            " 15  race                         2526 non-null   object \n",
            "dtypes: float64(2), int64(3), object(11)\n",
            "memory usage: 318.1+ KB\n"
          ]
        }
      ]
    },
    {
      "cell_type": "code",
      "source": [
        "df['employment_status '].value_counts()"
      ],
      "metadata": {
        "colab": {
          "base_uri": "https://localhost:8080/"
        },
        "id": "rQxC83-3RDJv",
        "outputId": "743401a1-d2df-4625-b4f4-e4c023802ae4"
      },
      "execution_count": 31,
      "outputs": [
        {
          "output_type": "execute_result",
          "data": {
            "text/plain": [
              "Student               775\n",
              "Unemployed            665\n",
              "Employed Full-Time    435\n",
              "Employed Part-Time    270\n",
              "Contractor            170\n",
              "Name: employment_status , dtype: int64"
            ]
          },
          "metadata": {},
          "execution_count": 31
        }
      ]
    },
    {
      "cell_type": "code",
      "source": [
        "df['employment_status '].isnull()"
      ],
      "metadata": {
        "colab": {
          "base_uri": "https://localhost:8080/"
        },
        "id": "FMJ7yXXdRrMo",
        "outputId": "15e762bc-d49f-47ec-d4b0-af73e32757ff"
      },
      "execution_count": 32,
      "outputs": [
        {
          "output_type": "execute_result",
          "data": {
            "text/plain": [
              "0       False\n",
              "1       False\n",
              "2       False\n",
              "3       False\n",
              "4       False\n",
              "        ...  \n",
              "2539    False\n",
              "2540     True\n",
              "2541    False\n",
              "2542     True\n",
              "2543    False\n",
              "Name: employment_status , Length: 2544, dtype: bool"
            ]
          },
          "metadata": {},
          "execution_count": 32
        }
      ]
    },
    {
      "cell_type": "code",
      "source": [
        "nan_count = df['employment_status '].isnull().sum()\n",
        "print(nan_count)\n"
      ],
      "metadata": {
        "colab": {
          "base_uri": "https://localhost:8080/"
        },
        "id": "xXVDd3XeS6iQ",
        "outputId": "239aba12-2df1-4de9-d511-f8aebd5864ee"
      },
      "execution_count": 33,
      "outputs": [
        {
          "output_type": "stream",
          "name": "stdout",
          "text": [
            "229\n"
          ]
        }
      ]
    },
    {
      "cell_type": "code",
      "source": [
        "threshold = 3"
      ],
      "metadata": {
        "id": "VoJ6tuWYUhjR"
      },
      "execution_count": 34,
      "outputs": []
    },
    {
      "cell_type": "code",
      "source": [
        "df_more_than_threshold = df[df.isnull().sum(axis='columns') > threshold]\n",
        "\n",
        "print(df_more_than_threshold)"
      ],
      "metadata": {
        "colab": {
          "base_uri": "https://localhost:8080/"
        },
        "id": "geh5053lhKLB",
        "outputId": "8a374f83-6c00-4cd2-cd28-69d3555f0420"
      },
      "execution_count": 35,
      "outputs": [
        {
          "output_type": "stream",
          "name": "stdout",
          "text": [
            "        id     pathrise_status primary_track cohort_tag  \\\n",
            "112    113           Withdrawn           SWE     SEP18B   \n",
            "209    210           Withdrawn        Design     JUL19B   \n",
            "456    457           Withdrawn        Design     JUL19B   \n",
            "563    564              Active           SWE     JUN19A   \n",
            "1354  1355               Break           SWE     OCT18A   \n",
            "1386  1387              Active           PSO     APR18A   \n",
            "1413  1414              Active           SWE     NOV18A   \n",
            "1457  1458         Closed Lost           SWE     OCT18A   \n",
            "1777  1778              Active           SWE     JUN19A   \n",
            "1861  1862              Active           PSO     OCT19A   \n",
            "1878  1879              Active        Design     AUG19C   \n",
            "2012  2013              Active           SWE     AUG19B   \n",
            "2194  2195           Withdrawn           SWE     OCT18B   \n",
            "2277  2278              Active           SWE     OCT19A   \n",
            "2321  2322              Active           SWE     SEP18B   \n",
            "2354  2355  Withdrawn (Failed)           SWE     SEP19B   \n",
            "2416  2417              Placed           PSO     MAR19B   \n",
            "\n",
            "      program_duration_days  placed  employment_status   \\\n",
            "112                   296.0       0                 NaN   \n",
            "209                    31.0       0             Student   \n",
            "456                   199.0       0                 NaN   \n",
            "563                     NaN       0          Unemployed   \n",
            "1354                    NaN       0  Employed Full-Time   \n",
            "1386                    NaN       0                 NaN   \n",
            "1413                    NaN       0  Employed Full-Time   \n",
            "1457                    0.0       0                 NaN   \n",
            "1777                    NaN       0             Student   \n",
            "1861                    NaN       0  Employed Part-Time   \n",
            "1878                    NaN       0                 NaN   \n",
            "2012                    NaN       0          Contractor   \n",
            "2194                  208.0       0  Employed Full-Time   \n",
            "2277                    NaN       0          Unemployed   \n",
            "2321                    NaN       0             Student   \n",
            "2354                  407.0       0          Unemployed   \n",
            "2416                  311.0       1             Student   \n",
            "\n",
            "            highest_level_of_education length_of_job_search  \\\n",
            "112                    Master's Degree   6 months to a year   \n",
            "209                  Bachelor's Degree          Over a year   \n",
            "456                                NaN                  NaN   \n",
            "563                  Bachelor's Degree           1-2 months   \n",
            "1354                 Bachelor's Degree           1-2 months   \n",
            "1386                 Bachelor's Degree           1-2 months   \n",
            "1413                               NaN           1-2 months   \n",
            "1457                 Bachelor's Degree                  NaN   \n",
            "1777                 Bachelor's Degree  Less than one month   \n",
            "1861  Doctorate or Professional Degree                  NaN   \n",
            "1878                 Bachelor's Degree           3-5 months   \n",
            "2012                 Bachelor's Degree  Less than one month   \n",
            "2194                 Bachelor's Degree           3-5 months   \n",
            "2277                               NaN           3-5 months   \n",
            "2321                   Master's Degree  Less than one month   \n",
            "2354                 Bachelor's Degree  Less than one month   \n",
            "2416  Doctorate or Professional Degree                  NaN   \n",
            "\n",
            "               biggest_challenge_in_search professional_experience  \\\n",
            "112        Hearing back on my applications                     NaN   \n",
            "209        Hearing back on my applications                     NaN   \n",
            "456    Getting past final round interviews               1-2 years   \n",
            "563        Hearing back on my applications                     NaN   \n",
            "1354  Figuring out which jobs to apply for                     NaN   \n",
            "1386           Lack of relevant experience                     NaN   \n",
            "1413   Getting past final round interviews               3-4 years   \n",
            "1457           Lack of relevant experience                5+ years   \n",
            "1777                Technical interviewing                     NaN   \n",
            "1861       Hearing back on my applications               1-2 years   \n",
            "1878       Hearing back on my applications               1-2 years   \n",
            "2012                                   NaN                     NaN   \n",
            "2194                                   NaN                     NaN   \n",
            "2277                Technical interviewing                     NaN   \n",
            "2321                Technical interviewing                     NaN   \n",
            "2354       Hearing back on my applications                     NaN   \n",
            "2416  Figuring out which jobs to apply for                     NaN   \n",
            "\n",
            "     work_authorization_status  number_of_interviews  number_of_applications  \\\n",
            "112                        NaN                   3.0                      15   \n",
            "209                        NaN                   NaN                       0   \n",
            "456                        NaN                   3.0                       2   \n",
            "563                        NaN                   0.0                     180   \n",
            "1354                       NaN                   0.0                      25   \n",
            "1386               F1 Visa/OPT                   0.0                      25   \n",
            "1413                   Citizen                   NaN                      30   \n",
            "1457                       NaN                   4.0                      60   \n",
            "1777                       NaN                   1.0                      10   \n",
            "1861                       NaN                   1.0                       1   \n",
            "1878                       NaN                   2.0                      40   \n",
            "2012                   Citizen                   0.0                      70   \n",
            "2194                       NaN                   0.0                      25   \n",
            "2277                   Citizen                   0.0                      60   \n",
            "2321                       NaN                   6.0                      25   \n",
            "2354                       NaN                   NaN                      15   \n",
            "2416                   Citizen                   5.0                       5   \n",
            "\n",
            "      gender                                 race  \n",
            "112      NaN       South Asian or Indian American  \n",
            "209      NaN         East Asian or Asian American  \n",
            "456   Female  Non-Hispanic White or Euro-American  \n",
            "563      NaN  Non-Hispanic White or Euro-American  \n",
            "1354     NaN         East Asian or Asian American  \n",
            "1386     NaN         East Asian or Asian American  \n",
            "1413     NaN       South Asian or Indian American  \n",
            "1457     NaN         East Asian or Asian American  \n",
            "1777     NaN       South Asian or Indian American  \n",
            "1861     NaN  Non-Hispanic White or Euro-American  \n",
            "1878     NaN         East Asian or Asian American  \n",
            "2012     NaN  Non-Hispanic White or Euro-American  \n",
            "2194     NaN         East Asian or Asian American  \n",
            "2277     NaN  Non-Hispanic White or Euro-American  \n",
            "2321     NaN         East Asian or Asian American  \n",
            "2354     NaN         East Asian or Asian American  \n",
            "2416     NaN                                  NaN  \n"
          ]
        }
      ]
    },
    {
      "cell_type": "code",
      "source": [
        "rows_to_drop = df[df.isnull().sum(axis='columns') > threshold].index\n",
        "print(rows_to_drop)"
      ],
      "metadata": {
        "colab": {
          "base_uri": "https://localhost:8080/"
        },
        "id": "9g_4gjIYjrhZ",
        "outputId": "0f51e1c7-6261-445a-f90e-fd59b254839f"
      },
      "execution_count": 36,
      "outputs": [
        {
          "output_type": "stream",
          "name": "stdout",
          "text": [
            "Int64Index([ 112,  209,  456,  563, 1354, 1386, 1413, 1457, 1777, 1861, 1878,\n",
            "            2012, 2194, 2277, 2321, 2354, 2416],\n",
            "           dtype='int64')\n"
          ]
        }
      ]
    },
    {
      "cell_type": "code",
      "source": [
        "df.drop(rows_to_drop, inplace=True)\n",
        "print(df)"
      ],
      "metadata": {
        "colab": {
          "base_uri": "https://localhost:8080/"
        },
        "id": "k8ECNa8ymHky",
        "outputId": "34f4c821-e736-41f1-82e7-91d8497a4280"
      },
      "execution_count": 37,
      "outputs": [
        {
          "output_type": "stream",
          "name": "stdout",
          "text": [
            "        id     pathrise_status primary_track cohort_tag  \\\n",
            "0        1              Active           SWE     OCT19A   \n",
            "1        2              Active           PSO     JAN20A   \n",
            "2        3         Closed Lost        Design     AUG19B   \n",
            "3        4         Closed Lost           PSO     AUG19B   \n",
            "4        5              Placed           SWE     AUG19A   \n",
            "...    ...                 ...           ...        ...   \n",
            "2539  2540  Withdrawn (Failed)        Design     JUN18A   \n",
            "2540  2541  Withdrawn (Failed)          Data     JAN19B   \n",
            "2541  2542              Active           SWE     SEP18C   \n",
            "2542  2543              Active           SWE     MAY18A   \n",
            "2543  2544           Withdrawn           SWE     OCT19A   \n",
            "\n",
            "      program_duration_days  placed  employment_status   \\\n",
            "0                       NaN       0          Unemployed   \n",
            "1                       NaN       0          Unemployed   \n",
            "2                       0.0       0  Employed Part-Time   \n",
            "3                       0.0       0          Contractor   \n",
            "4                      89.0       1          Unemployed   \n",
            "...                     ...     ...                 ...   \n",
            "2539                  457.0       0          Contractor   \n",
            "2540                  488.0       0                 NaN   \n",
            "2541                    NaN       0          Contractor   \n",
            "2542                    NaN       0                 NaN   \n",
            "2543                  285.0       0             Student   \n",
            "\n",
            "     highest_level_of_education length_of_job_search  \\\n",
            "0             Bachelor's Degree           3-5 months   \n",
            "1       Some College, No Degree           3-5 months   \n",
            "2               Master's Degree  Less than one month   \n",
            "3             Bachelor's Degree  Less than one month   \n",
            "4             Bachelor's Degree           1-2 months   \n",
            "...                         ...                  ...   \n",
            "2539            Master's Degree   6 months to a year   \n",
            "2540            Master's Degree           3-5 months   \n",
            "2541          Bachelor's Degree  Less than one month   \n",
            "2542            Master's Degree  Less than one month   \n",
            "2543            Master's Degree           1-2 months   \n",
            "\n",
            "               biggest_challenge_in_search professional_experience  \\\n",
            "0          Hearing back on my applications               3-4 years   \n",
            "1      Getting past final round interviews               1-2 years   \n",
            "2     Figuring out which jobs to apply for      Less than one year   \n",
            "3      Getting past final round interviews      Less than one year   \n",
            "4          Hearing back on my applications               1-2 years   \n",
            "...                                    ...                     ...   \n",
            "2539                Technical interviewing                5+ years   \n",
            "2540       Hearing back on my applications               1-2 years   \n",
            "2541                Technical interviewing               1-2 years   \n",
            "2542                Technical interviewing               1-2 years   \n",
            "2543       Hearing back on my applications               1-2 years   \n",
            "\n",
            "     work_authorization_status  number_of_interviews  number_of_applications  \\\n",
            "0               Canada Citizen                   2.0                     900   \n",
            "1                      Citizen                   6.0                       0   \n",
            "2                      Citizen                   0.0                       0   \n",
            "3                      Citizen                   5.0                      25   \n",
            "4                  F1 Visa/OPT                  10.0                     100   \n",
            "...                        ...                   ...                     ...   \n",
            "2539                   Citizen                   4.0                      15   \n",
            "2540               F1 Visa/OPT                   1.0                       7   \n",
            "2541                   Citizen                   1.0                      30   \n",
            "2542                   Citizen                   2.0                      10   \n",
            "2543                Green Card                   3.0                      70   \n",
            "\n",
            "      gender                                 race  \n",
            "0       Male  Non-Hispanic White or Euro-American  \n",
            "1       Male  Non-Hispanic White or Euro-American  \n",
            "2       Male         East Asian or Asian American  \n",
            "3       Male             Decline to Self Identify  \n",
            "4       Male         East Asian or Asian American  \n",
            "...      ...                                  ...  \n",
            "2539    Male  Non-Hispanic White or Euro-American  \n",
            "2540    Male  Non-Hispanic White or Euro-American  \n",
            "2541  Female  Non-Hispanic White or Euro-American  \n",
            "2542    Male             Decline to Self Identify  \n",
            "2543    Male  Non-Hispanic White or Euro-American  \n",
            "\n",
            "[2527 rows x 16 columns]\n"
          ]
        }
      ]
    },
    {
      "cell_type": "code",
      "source": [
        "df.info()"
      ],
      "metadata": {
        "colab": {
          "base_uri": "https://localhost:8080/"
        },
        "id": "qALl2YqWmkyJ",
        "outputId": "2e50f206-4fe9-4ee4-e8c7-a81742ad8888"
      },
      "execution_count": 39,
      "outputs": [
        {
          "output_type": "stream",
          "name": "stdout",
          "text": [
            "<class 'pandas.core.frame.DataFrame'>\n",
            "Int64Index: 2527 entries, 0 to 2543\n",
            "Data columns (total 16 columns):\n",
            " #   Column                       Non-Null Count  Dtype  \n",
            "---  ------                       --------------  -----  \n",
            " 0   id                           2527 non-null   int64  \n",
            " 1   pathrise_status              2527 non-null   object \n",
            " 2   primary_track                2527 non-null   object \n",
            " 3   cohort_tag                   2519 non-null   object \n",
            " 4   program_duration_days        1921 non-null   float64\n",
            " 5   placed                       2527 non-null   int64  \n",
            " 6   employment_status            2303 non-null   object \n",
            " 7   highest_level_of_education   2472 non-null   object \n",
            " 8   length_of_job_search         2457 non-null   object \n",
            " 9   biggest_challenge_in_search  2505 non-null   object \n",
            " 10  professional_experience      2317 non-null   object \n",
            " 11  work_authorization_status    2255 non-null   object \n",
            " 12  number_of_interviews         2312 non-null   float64\n",
            " 13  number_of_applications       2527 non-null   int64  \n",
            " 14  gender                       2051 non-null   object \n",
            " 15  race                         2510 non-null   object \n",
            "dtypes: float64(2), int64(3), object(11)\n",
            "memory usage: 335.6+ KB\n"
          ]
        }
      ]
    },
    {
      "cell_type": "code",
      "source": [],
      "metadata": {
        "id": "HDReEXK4mzqB"
      },
      "execution_count": null,
      "outputs": []
    }
  ]
}